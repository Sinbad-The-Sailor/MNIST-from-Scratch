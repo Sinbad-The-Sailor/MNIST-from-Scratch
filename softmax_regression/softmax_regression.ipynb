{
 "cells": [
  {
   "cell_type": "markdown",
   "metadata": {},
   "source": [
    "## Softmax Regression\n",
    "\n",
    "An extention of logistic regression for non-binary classifcation is called softmax/multinomial regression. This can also be seen as a one layer neural network in and of itself.\n",
    "\n",
    "**MNIST** can be classifed from this methodology. \n",
    "\n",
    "In softmax regression we obtain a vector of probabilities for each $k \\in \\mathcal{C}$. This probability is obtained by applying the softmax function to the linear regression models for each class. That is\n",
    "\n",
    "$$\n",
    "\\sigma_{\\text{softmax}}: \\mathbb{R}^{n\\times1} \\rightarrow [0,1]^{K\\times 1}.\n",
    "$$\n",
    "\n",
    "The basic set up of using softmax regression is as follows:\n",
    "1. Have a list of all features/covariates $\\mathbf{x}$.\n",
    "2. Apply the linear regression for each class, i.e., $\\mathbf{w_i}^{\\text{T}}\\mathbf{x}~~i\\in\\{1,\\ldots,K\\}$.\n",
    "3. Apply the softmax function to the output vector of the different linear regression scoring models.\n",
    "4. Return the class which has the largest probability of being true.\n",
    "\n",
    "Parameter optimization is done via MLE. The process is slightly more involved than for logistic regression. Suppose we have a training set $\\mathcal{D} = \\{(\\mathbf{x}_i, \\mathbf{t}_i)\\}_{i=1}^n$. \n",
    "\n",
    "Each r.v. that is observed has some probability of being in a class $k \\in \\mathcal{C}$. Similarly to logistic regression we can write the probability of being in class $k$ given the obseervation $(\\mathbf{x}, \\mathbf{t}) \\in \\mathcal{D}$ and the weighting matrix $\\mathbf{W}$ as \n",
    "\n",
    "$$\n",
    "\\mathbb{P}(Y = l| \\mathbf{x}, \\mathbf{W}) = p_1^{\\mathbb{1}_{\\{t_1 = l\\}}} \\cdot \\ldots \\cdot p_n^{\\mathbb{1}_{\\{t_n = l\\}}}\n",
    ".$$\n",
    "\n",
    "With an entire dataset $\\mathcal{D}$ we can derive a loss function using a likelihood based approach:\n",
    "\n",
    "\\begin{equation*}\n",
    "    \\begin{split}\n",
    "        L(\\mathbf{W}) \\triangleq p(\\mathcal{D}|\\mathbf{W}) & = \\mathbb{P}(Y_1 = t_1, \\ldots, Y_n = t_n|\\mathbf{W}) \\\\\n",
    "        & = \\mathbb{P}(Y_1 = t_1 | \\mathbf{W})\\ldots \\mathbb{P}(Y_n = t_n | \\mathbf{W})\\\\\n",
    "        & = \\prod_{i=1}^n \\prod_{l=1}^K \\Big[\\frac{\\exp{\\mathbf{w}_l^{\\text{T}}\\mathbf{x_i}}}{\\sum_{j=1}^K \\exp{\\mathbf{w}_j^{\\text{T}}\\mathbf{x_i}}} \\Big]^{\\mathbb{1}_{\\{t_l^{(i)} = l\\}}}.\n",
    "    \\end{split}\n",
    "\\end{equation*}"
   ]
  },
  {
   "cell_type": "markdown",
   "metadata": {},
   "source": [
    "To simplify the mathematics slightly we introduce two new notations following Bishop. \n",
    "\n",
    "For a target vector $\\mathbf{t}_j$ we introduce a new matrix $\\mathbf{T} = [t_{ij}] \\in \\mathbb{R}^{n\\times K}$ which keeps track of the values in a target vector, raning from $j=1,...,K$ for each sample $i=1,...,n$.\n",
    "\n",
    "Secondly, we define \n",
    "$$\n",
    "y_l(\\mathbf{x}_i|\\mathbf{W}) \\triangleq \\frac{\\exp{\\mathbf{w}_l^{\\text{T}}\\mathbf{x_i}}}{\\sum_{j=1}^K \\exp{\\mathbf{w}_j^{\\text{T}}\\mathbf{x_i}}}.\n",
    "$$\n",
    "The likelihood function thus simplifies to \n",
    "\\begin{equation*}\n",
    "    \\begin{split}\n",
    "        L(\\mathbf{W}) \\triangleq p(\\mathcal{D}|\\mathbf{W}) & = \\mathbb{P}(Y_1 = t_1, \\ldots, Y_n = t_n|\\mathbf{W}) \\\\\n",
    "        & = \\prod_{i=1}^n \\prod_{l=1}^K \\Big[y_l(\\mathbf{x}_i|\\mathbf{W}) \\Big]^{t_{il}}.\n",
    "    \\end{split}\n",
    "\\end{equation*}\n",
    "Next, we obtain the cost function by the negative log-likelihood as\n",
    "\n",
    "\n",
    "\\begin{equation*}\n",
    "    \\begin{split}\n",
    "        \\mathcal{J}(\\mathbf{W}) \\triangleq - \\ln p(\\mathcal{D}|\\mathbf{W}) & = -\\sum_{i=1}^n \\sum_{l=1}^K t_{il} \\ln (y_l(\\mathbf{x}_i|\\mathbf{W})),\n",
    "    \\end{split}\n",
    "\\end{equation*}\n",
    "\n",
    "of which the gradients are calculated in the following manner\n",
    "\n",
    "$$\n",
    "\\nabla_{\\mathbf{w}_j}\\mathcal{J}(\\mathbf{W}) = \\sum_{i=1}^N(y_j(\\mathbf{x}_i) - t{ij})\\mathbf{x}_i \\in \\mathbb{R}^{M\\times 1},\n",
    "$$\n",
    "where $M$ is the number of features.\n"
   ]
  },
  {
   "cell_type": "markdown",
   "metadata": {},
   "source": [
    "To train the model we do this without any regularization of $\\mathbf{W}$, and we use standard gradient decent, meaning \n",
    "\n",
    "$$\n",
    "\\mathbf{W}_{n+1} = \\mathbf{W}_n + \\eta \\nabla_{\\mathbf{W}}\\mathcal{J}(\\mathbf{W}).\n",
    "$$\n",
    "\n",
    "For some learning rate $\\eta$, which will be set as a constant. "
   ]
  },
  {
   "cell_type": "markdown",
   "metadata": {},
   "source": [
    "#### 1. Importing Data"
   ]
  },
  {
   "cell_type": "code",
   "execution_count": 11,
   "metadata": {},
   "outputs": [],
   "source": [
    "import numpy as np\n",
    "import pandas as pd\n",
    "\n",
    "from matplotlib import pyplot as plt\n",
    "\n",
    "# Plotting configuration.\n",
    "%config InlineBackend.figure_format = 'retina'\n",
    "plt.style.use(['science', 'notebook', 'grid'])"
   ]
  },
  {
   "cell_type": "code",
   "execution_count": 3,
   "metadata": {},
   "outputs": [],
   "source": [
    "# Importing MNIST dataset. \n",
    "from mnist_utils.data_reader import (TESTING_DATA,\n",
    "                                     TESTING_LABELS,\n",
    "                                     TRAINING_DATA,\n",
    "                                     TRAINING_LABELS)"
   ]
  },
  {
   "cell_type": "code",
   "execution_count": 4,
   "metadata": {},
   "outputs": [
    {
     "data": {
      "image/png": "[encoded data removed]",
      "text/plain": [
       "<Figure size 432x288 with 1 Axes>"
      ]
     },
     "metadata": {
      "image/png": {
       "height": 245,
       "width": 248
      },
      "needs_background": "light"
     },
     "output_type": "display_data"
    }
   ],
   "source": [
    "plt.imshow(TRAINING_DATA[250])\n",
    "plt.show()"
   ]
  },
  {
   "cell_type": "markdown",
   "metadata": {},
   "source": [
    "#### 2. Configuring Data and Encoding"
   ]
  },
  {
   "cell_type": "code",
   "execution_count": 45,
   "metadata": {},
   "outputs": [],
   "source": [
    "def one_hot_encoding(array : np.array) -> np.array:\n",
    "    \n",
    "    data_length = len(array)\n",
    "    feature_length = max(array) + 1\n",
    "    dim  = (data_length, feature_length)\n",
    "    one_hot_matrix = np.zeros(dim)\n",
    "\n",
    "    for i in range(data_length):\n",
    "        digit = array[i]\n",
    "        one_hot_matrix[i][digit] = 1\n",
    "\n",
    "    return one_hot_matrix"
   ]
  },
  {
   "cell_type": "code",
   "execution_count": 52,
   "metadata": {},
   "outputs": [],
   "source": [
    "T = one_hot_encoding(TRAINING_LABELS)"
   ]
  },
  {
   "cell_type": "code",
   "execution_count": null,
   "metadata": {},
   "outputs": [],
   "source": []
  }
 ],
 "metadata": {
  "interpreter": {
   "hash": "dff8b73526701c08e8c4b8ff311f76facea885c22db9ac0534f1f6f35e78fb53"
  },
  "kernelspec": {
   "display_name": "Python 3.9.13 ('venv': venv)",
   "language": "python",
   "name": "python3"
  },
  "language_info": {
   "codemirror_mode": {
    "name": "ipython",
    "version": 3
   },
   "file_extension": ".py",
   "mimetype": "text/x-python",
   "name": "python",
   "nbconvert_exporter": "python",
   "pygments_lexer": "ipython3",
   "version": "3.9.13"
  },
  "orig_nbformat": 4
 },
 "nbformat": 4,
 "nbformat_minor": 2
}
