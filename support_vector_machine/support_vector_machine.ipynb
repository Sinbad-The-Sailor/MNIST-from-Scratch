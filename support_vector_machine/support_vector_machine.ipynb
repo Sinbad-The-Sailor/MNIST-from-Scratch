{
 "cells": [
  {
   "cell_type": "markdown",
   "metadata": {},
   "source": [
    "## Support Vector Machines\n",
    "\n",
    "An intuative white-box method for classification is Support Vector Machines (SVM). The methodology tries to find the best hyperplane seperating two linearly-seperable datasets with the use of a margin between the two sets. If the classes are not seperable linearly kernel methods can be used to obtain a new transformed feature space where they are seperatble linearly.\n",
    "\n",
    "\n",
    "SVMs are inherently binary classifiers. For more classes a meta-classification algorithm has to be employed. E.g. one-versus-all, one-versus-one or binary trees. The rudimentary SVMs also do not allow for outliers.\n",
    "\n",
    "\n",
    "\n"
   ]
  },
  {
   "cell_type": "code",
   "execution_count": null,
   "metadata": {},
   "outputs": [],
   "source": []
  },
  {
   "cell_type": "code",
   "execution_count": 1,
   "metadata": {},
   "outputs": [],
   "source": []
  },
  {
   "cell_type": "code",
   "execution_count": null,
   "metadata": {},
   "outputs": [],
   "source": []
  }
 ],
 "metadata": {
  "interpreter": {
   "hash": "dff8b73526701c08e8c4b8ff311f76facea885c22db9ac0534f1f6f35e78fb53"
  },
  "kernelspec": {
   "display_name": "Python 3.9.13 ('venv': venv)",
   "language": "python",
   "name": "python3"
  },
  "language_info": {
   "codemirror_mode": {
    "name": "ipython",
    "version": 3
   },
   "file_extension": ".py",
   "mimetype": "text/x-python",
   "name": "python",
   "nbconvert_exporter": "python",
   "pygments_lexer": "ipython3",
   "version": "3.9.13"
  },
  "orig_nbformat": 4
 },
 "nbformat": 4,
 "nbformat_minor": 2
}
